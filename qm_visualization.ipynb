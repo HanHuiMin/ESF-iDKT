{
 "cells": [
  {
   "cell_type": "code",
   "execution_count": 2,
   "metadata": {},
   "outputs": [],
   "source": [
    "import numpy as np\n",
    "import torch\n",
    "import seaborn as sns\n",
    "import matplotlib.pyplot as plt\n",
    "%matplotlib inline\n",
    "index = 2"
   ]
  },
  {
   "cell_type": "code",
   "execution_count": 3,
   "metadata": {},
   "outputs": [
    {
     "name": "stdout",
     "output_type": "stream",
     "text": [
      "tensor([[0.0400, 0.0000, 0.0122, 0.0000, 0.1191],\n",
      "        [0.0616, 0.0013, 0.1541, 0.1739, 0.1477],\n",
      "        [0.1082, 0.0000, 0.0000, 0.0917, 0.3933],\n",
      "        [0.1055, 0.1171, 0.0971, 0.2922, 0.0000],\n",
      "        [0.1494, 0.1589, 0.0000, 0.0121, 0.0000],\n",
      "        [0.2045, 0.1129, 0.0388, 0.0000, 0.0000],\n",
      "        [0.2233, 0.0357, 0.1653, 0.3698, 0.0000],\n",
      "        [0.2930, 0.1073, 0.1888, 0.0587, 0.2836],\n",
      "        [0.3339, 0.0481, 0.3082, 0.1906, 0.0222],\n",
      "        [0.3928, 0.3554, 0.1271, 0.2755, 0.6502]], dtype=torch.float64)\n"
     ]
    }
   ],
   "source": [
    "qm_origin = np.load('datasets/atc_datasets/s500_q10_kc5/qm_GT.npy')\n",
    "qm_origin = torch.tensor(qm_origin)\n",
    "# qm_origin[qm_origin<=0]=0\n",
    "# qm_origin[qm_origin>0]=1\n",
    "# qm_origin = torch.sigmoid(qm_origin)\n",
    "print(qm_origin)"
   ]
  },
  {
   "cell_type": "code",
   "execution_count": 4,
   "metadata": {},
   "outputs": [
    {
     "data": {
      "text/plain": [
       "tensor([[0.8753, 0.4326, 0.0000, 1.9945, 0.4182],\n",
       "        [0.4491, 0.5483, 0.9313, 1.6240, 0.4139],\n",
       "        [0.0000, 0.0000, 3.1409, 1.7679, 0.0000],\n",
       "        [0.0000, 1.4541, 0.0000, 2.1403, 0.0000],\n",
       "        [0.3329, 0.7864, 1.0200, 1.5122, 0.4182],\n",
       "        [0.0000, 0.3937, 1.7485, 1.3615, 0.6845],\n",
       "        [0.0000, 0.6744, 2.3595, 0.8949, 0.6292],\n",
       "        [0.0766, 0.7279, 1.5744, 1.2982, 0.5391],\n",
       "        [0.0000, 0.0000, 0.1196, 2.1075, 1.1379],\n",
       "        [2.5832, 0.0000, 0.0000, 2.0620, 0.0000]], dtype=torch.float64)"
      ]
     },
     "execution_count": 4,
     "metadata": {},
     "output_type": "execute_result"
    }
   ],
   "source": [
    "qm_nmf = np.loadtxt('qm_data/s500_q10_kc5/s500_q10_kc5_output5_5_skills_steps.csv',delimiter=',')\n",
    "qm_nmf = torch.tensor(qm_nmf)\n",
    "qm_nmf"
   ]
  },
  {
   "cell_type": "code",
   "execution_count": 5,
   "metadata": {},
   "outputs": [
    {
     "data": {
      "text/plain": [
       "tensor([[0.8319, 0.6742, 0.8103, 0.9756, 0.6404],\n",
       "        [0.8202, 0.0000, 0.7721, 0.8397, 0.4285],\n",
       "        [0.0361, 0.1121, 0.0000, 0.1064, 0.1376],\n",
       "        [0.5878, 0.5110, 0.4819, 0.3415, 0.3981],\n",
       "        [0.8708, 0.7328, 0.6165, 0.7568, 0.6471],\n",
       "        [0.0000, 0.1798, 0.2446, 0.0000, 0.1985],\n",
       "        [0.4335, 0.5795, 0.4256, 0.3858, 0.6084],\n",
       "        [0.8272, 0.7663, 0.6719, 0.6689, 0.7453],\n",
       "        [0.9477, 1.0512, 1.1113, 0.8631, 1.0211],\n",
       "        [0.7217, 0.7544, 0.5179, 0.7125, 0.7212]], dtype=torch.float64)"
      ]
     },
     "execution_count": 5,
     "metadata": {},
     "output_type": "execute_result"
    }
   ],
   "source": [
    "qm_atc = np.load('datasets/atc_datasets/s500_q10_kc5/qm_atc'+str(index)+'.npy')\n",
    "qm_atc = torch.tensor(qm_atc)\n",
    "# qm_atc[qm_atc<0.5]=0\n",
    "# qm_atc[qm_atc>=0.5]=1\n",
    "# qm_atc = torch.sigmoid(qm_atc)\n",
    "qm_atc"
   ]
  },
  {
   "cell_type": "code",
   "execution_count": 6,
   "metadata": {},
   "outputs": [
    {
     "data": {
      "text/plain": [
       "tensor([[ 0.9379,  0.7787,  0.9214,  1.1407,  0.4868],\n",
       "        [ 1.1456,  0.3076,  1.1792,  1.3723,  0.0865],\n",
       "        [ 0.1390,  0.1483,  0.2822,  0.1753,  0.2474],\n",
       "        [ 0.8079,  0.6986,  0.7592,  0.6007,  0.1671],\n",
       "        [ 0.9218,  0.7855,  0.6658,  0.8341,  0.5529],\n",
       "        [ 0.3488,  0.4677,  0.7054, -0.5745, -0.2125],\n",
       "        [ 0.5535,  0.6749,  0.6004,  0.5727,  0.5080],\n",
       "        [ 0.9167,  0.8511,  0.7841,  0.8216,  0.6547],\n",
       "        [ 0.8707,  0.9875,  1.0301,  0.7736,  1.0797],\n",
       "        [ 0.5153,  0.5576,  0.3612,  0.6615,  1.1018]])"
      ]
     },
     "execution_count": 6,
     "metadata": {},
     "output_type": "execute_result"
    }
   ],
   "source": [
    "qm_DATC = np.load('atc'+str(index)+'_kc_weight/atc'+str(index)+'_kcweight_5.npy')\n",
    "qm_DATC = torch.tensor(qm_DATC).t()\n",
    "# qm_DATC[qm_DATC<0.5]=0\n",
    "# qm_DATC[qm_DATC>=0.5]=1\n",
    "# qm_DATC = torch.sigmoid(torch.tensor(qm_DATC))\n",
    "qm_DATC"
   ]
  },
  {
   "cell_type": "code",
   "execution_count": 7,
   "metadata": {},
   "outputs": [
    {
     "data": {
      "text/plain": [
       "tensor([[ 0.4186,  0.0891,  0.0680,  0.0773, -0.6410],\n",
       "        [ 0.6248, -0.0478,  0.7007, -0.0485, -0.6336],\n",
       "        [-0.1803, -0.2411, -0.0322,  0.0703,  0.3989],\n",
       "        [ 0.3075,  0.0028,  0.4737, -0.0881, -0.2737],\n",
       "        [-0.0980,  0.2812,  0.2756,  0.1147, -0.2967],\n",
       "        [-0.0604,  0.3079,  0.4508,  0.2257, -0.1184],\n",
       "        [-0.0263, -0.1257,  0.1526, -0.0770, -0.1539],\n",
       "        [-0.1012, -0.0776,  0.3953, -0.0801, -0.4589],\n",
       "        [ 0.3336,  0.0469, -0.0813, -0.2410, -0.3524],\n",
       "        [-0.3769, -0.2904, -0.2859, -0.5753,  0.0036]])"
      ]
     },
     "execution_count": 7,
     "metadata": {},
     "output_type": "execute_result"
    }
   ],
   "source": [
    "qm_noinit = np.load('noinit_atc'+str(index)+'_kc_weight/atc'+str(index)+'_kcweight_15.npy')\n",
    "qm_noinit = torch.tensor(qm_noinit).t()\n",
    "# qm_noinit[qm_noinit<=0]=0\n",
    "# qm_noinit[qm_noinit>0]=1\n",
    "# qm_noinit = torch.sigmoid(qm_noinit)\n",
    "qm_noinit"
   ]
  },
  {
   "cell_type": "code",
   "execution_count": 8,
   "metadata": {},
   "outputs": [
    {
     "data": {
      "image/png": "[encoded data removed]",
      "text/plain": [
       "<Figure size 1080x144 with 2 Axes>"
      ]
     },
     "metadata": {
      "needs_background": "light"
     },
     "output_type": "display_data"
    }
   ],
   "source": [
    "#真实Q-matrix\n",
    "x_list=[]\n",
    "for i in range(10):\n",
    "    x_list.append(i)\n",
    "y_list = ['k0','k1','k2','k3','k4']\n",
    "plt.figure(figsize=(15, 2))\n",
    "f_plot_1 = sns.heatmap(qm_origin.t(),vmin = 0.0,vmax=0.5,square=True,cmap=plt.cm.Blues,xticklabels=x_list,yticklabels=y_list,annot=False,fmt=\".2f\",linewidths=.1)\n",
    "plt.show()"
   ]
  },
  {
   "cell_type": "code",
   "execution_count": 9,
   "metadata": {},
   "outputs": [
    {
     "data": {
      "image/png": "[encoded data removed]",
      "text/plain": [
       "<Figure size 1080x144 with 2 Axes>"
      ]
     },
     "metadata": {
      "needs_background": "light"
     },
     "output_type": "display_data"
    }
   ],
   "source": [
    "plt.figure(figsize=(15, 2))\n",
    "f_plot_1 = sns.heatmap(qm_nmf.t(),vmin = 0.0,vmax=1.5,square=True,cmap=plt.cm.Blues,xticklabels=x_list,yticklabels=y_list,annot=False,fmt=\".2f\",linewidths=.1)\n",
    "plt.show()"
   ]
  },
  {
   "cell_type": "code",
   "execution_count": 10,
   "metadata": {},
   "outputs": [
    {
     "data": {
      "image/png": "[encoded data removed]",
      "text/plain": [
       "<Figure size 1080x144 with 2 Axes>"
      ]
     },
     "metadata": {
      "needs_background": "light"
     },
     "output_type": "display_data"
    }
   ],
   "source": [
    "#ATC初步生成的Q-matrix\n",
    "plt.figure(figsize=(15, 2))\n",
    "f_plot_1 = sns.heatmap(qm_atc.t(),vmin = 0.0,vmax=1.5,square=True,cmap=plt.cm.Blues,xticklabels=x_list,yticklabels=y_list,annot=False,fmt=\".2f\",linewidths=.1)\n",
    "plt.show()"
   ]
  },
  {
   "cell_type": "code",
   "execution_count": 11,
   "metadata": {},
   "outputs": [
    {
     "data": {
      "image/png": "[encoded data removed]",
      "text/plain": [
       "<Figure size 1080x144 with 2 Axes>"
      ]
     },
     "metadata": {
      "needs_background": "light"
     },
     "output_type": "display_data"
    }
   ],
   "source": [
    "#DATC半自动生成的Q-matrix\n",
    "plt.figure(figsize=(15, 2))\n",
    "f_plot_1 = sns.heatmap(qm_DATC,vmin = 0.0,vmax=1.5,square=True,cmap=plt.cm.Blues,xticklabels=x_list,yticklabels=y_list,annot=False,fmt=\".2f\",linewidths=.1)\n",
    "plt.show()"
   ]
  },
  {
   "cell_type": "code",
   "execution_count": 12,
   "metadata": {},
   "outputs": [
    {
     "data": {
      "image/png": "[encoded data removed]",
      "text/plain": [
       "<Figure size 1080x144 with 2 Axes>"
      ]
     },
     "metadata": {
      "needs_background": "light"
     },
     "output_type": "display_data"
    }
   ],
   "source": [
    "#DATC自动生成的Q-matrix\n",
    "plt.figure(figsize=(15, 2))\n",
    "f_plot_1 = sns.heatmap(qm_noinit,vmin = 0.0,vmax=0.5,square=True,cmap=plt.cm.Blues,xticklabels=x_list,yticklabels=y_list,annot=False,fmt=\".2f\",linewidths=.1)\n",
    "plt.show()"
   ]
  },
  {
   "cell_type": "code",
   "execution_count": 13,
   "metadata": {},
   "outputs": [
    {
     "name": "stdout",
     "output_type": "stream",
     "text": [
      "[0.5317304555721171, 0.9141573968092159, 0.7718328866180603, 0.735274787748087, 0.7167211871865167, 0.34685394695960015, 0.6440462875970566, 0.9131048131124997, 0.8070562717320419, 0.931070083822896]\n",
      "[0.42953573067365075, 0.8252606221313568, 0.6656939415235466, 0.8293139222366844, 0.7313973082154772, 0.5808645298481645, 0.7566051495863403, 0.8791381730337028, 0.7816627528371799, 0.9820861306074579]\n"
     ]
    }
   ],
   "source": [
    "smi_atc=[]\n",
    "smi_DATC=[]\n",
    "# print(qm_origin.shape)\n",
    "# print(torch.cosine_similarity(qm_origin[0],qm_atc[0],0))\n",
    "for i in range(qm_origin.shape[0]):\n",
    "    a = torch.cosine_similarity(qm_origin[i],qm_DATC[i],0)\n",
    "    b=torch.cosine_similarity(qm_origin[i],qm_atc[i],0)\n",
    "    smi_atc.append(b.item())\n",
    "    smi_DATC.append(a.item())\n",
    "print(smi_atc)\n",
    "print(smi_DATC)"
   ]
  },
  {
   "cell_type": "code",
   "execution_count": 14,
   "metadata": {},
   "outputs": [
    {
     "name": "stdout",
     "output_type": "stream",
     "text": [
      "10\n",
      "tensor([1., 1., 1., 1., 1., 1., 1., 1., 1., 1.])\n",
      "5\n",
      "[[0.99999999 0.55453058 0.75203459 0.39804935 0.76089662]\n",
      " [0.55453058 0.99999999 0.70573751 0.46629642 0.71469299]\n",
      " [0.75203459 0.70573751 0.99999999 0.44682088 0.92363239]\n",
      " [0.39804935 0.46629642 0.44682088 1.         0.41866592]\n",
      " [0.76089662 0.71469299 0.92363239 0.41866592 1.        ]]\n"
     ]
    }
   ],
   "source": [
    "qm_list=[]\n",
    "qm_list.append(qm_origin)\n",
    "qm_list.append(qm_nmf)\n",
    "qm_list.append(qm_atc)\n",
    "qm_list.append(qm_noinit)\n",
    "qm_list.append(qm_DATC)\n",
    "smi_list=[]\n",
    "smi_matrix=[]\n",
    "len_seq = qm_origin.shape[0]\n",
    "print(len_seq)\n",
    "one = torch.ones((len_seq))\n",
    "print(one)\n",
    "full = torch.norm(one)\n",
    "for i in range(len(qm_list)):\n",
    "    smi_list=[]\n",
    "    for j in range(len(qm_list)):\n",
    "        smi = torch.cosine_similarity(qm_list[i],qm_list[j],1)\n",
    "        smi = torch.norm(smi)\n",
    "        smi = smi/full\n",
    "#         smi = torch.sigmoid(smi)\n",
    "        smi_list.append(smi.item())\n",
    "    smi_matrix.append(smi_list)\n",
    "print(len(smi_matrix))\n",
    "smi_matrix = np.array(smi_matrix)\n",
    "# smi_matrix = smi_matrix/3.16\n",
    "print(smi_matrix)"
   ]
  },
  {
   "cell_type": "code",
   "execution_count": 18,
   "metadata": {},
   "outputs": [
    {
     "data": {
      "image/png": "[encoded data removed]",
      "text/plain": [
       "<Figure size 1080x288 with 2 Axes>"
      ]
     },
     "metadata": {
      "needs_background": "light"
     },
     "output_type": "display_data"
    }
   ],
   "source": [
    "index_list = ['Q-GT','Q-NMF','Q-ATC','Q-RI','Q-ATCI']\n",
    "plt.figure(figsize=(15, 4))\n",
    "f_plot_1 = sns.heatmap(smi_matrix,vmin = 0.0,vmax=1.0,square=True,cmap=plt.cm.Blues,xticklabels=index_list,yticklabels=index_list,annot=True,fmt=\".2f\",linewidths=.1)\n",
    "plt.show()"
   ]
  },
  {
   "cell_type": "code",
   "execution_count": 16,
   "metadata": {},
   "outputs": [
    {
     "data": {
      "text/plain": [
       "tensor([0.9899, 0.3714, 0.7761])"
      ]
     },
     "execution_count": 16,
     "metadata": {},
     "output_type": "execute_result"
    }
   ],
   "source": [
    "a = torch.FloatTensor([[1,2],[2,5],[3,4]])\n",
    "b = torch.FloatTensor([[1,3],[6,0],[4,1]])\n",
    "c=torch.cosine_similarity(a,b,0)\n",
    "d=torch.cosine_similarity(a,b,1)\n",
    "e=torch.cosine_similarity(a,b)\n",
    "e\n",
    "d"
   ]
  },
  {
   "cell_type": "code",
   "execution_count": 16,
   "metadata": {},
   "outputs": [
    {
     "data": {
      "text/plain": [
       "tensor([1., 1., 1., 1., 1., 1., 1., 1., 1., 1.], dtype=torch.float64)"
      ]
     },
     "execution_count": 16,
     "metadata": {},
     "output_type": "execute_result"
    }
   ],
   "source": [
    "b=torch.cosine_similarity(qm_origin,qm_origin,1)\n",
    "b"
   ]
  },
  {
   "cell_type": "code",
   "execution_count": 322,
   "metadata": {},
   "outputs": [
    {
     "data": {
      "text/plain": [
       "tensor(3.1623, dtype=torch.float64)"
      ]
     },
     "execution_count": 322,
     "metadata": {},
     "output_type": "execute_result"
    }
   ],
   "source": [
    "torch.norm(b)"
   ]
  },
  {
   "cell_type": "code",
   "execution_count": null,
   "metadata": {},
   "outputs": [],
   "source": []
  }
 ],
 "metadata": {
  "kernelspec": {
   "display_name": "Python 3",
   "language": "python",
   "name": "python3"
  },
  "language_info": {
   "codemirror_mode": {
    "name": "ipython",
    "version": 3
   },
   "file_extension": ".py",
   "mimetype": "text/x-python",
   "name": "python",
   "nbconvert_exporter": "python",
   "pygments_lexer": "ipython3",
   "version": "3.7.4"
  }
 },
 "nbformat": 4,
 "nbformat_minor": 4
}
